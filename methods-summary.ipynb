{
 "cells": [
  {
   "cell_type": "code",
   "execution_count": null,
   "metadata": {},
   "outputs": [],
   "source": [
    "from IPython.lib.deepreload import reload\n",
    "%load_ext autoreload\n",
    "%autoreload 1"
   ]
  },
  {
   "cell_type": "code",
   "execution_count": null,
   "metadata": {},
   "outputs": [],
   "source": [
    "%reload_ext autoreload"
   ]
  },
  {
   "cell_type": "code",
   "execution_count": null,
   "metadata": {},
   "outputs": [],
   "source": [
    "import logging\n",
    "import random\n",
    "\n",
    "import numpy as np\n",
    "import pandas as pd\n",
    "import seaborn as sns\n",
    "import matplotlib.pyplot as plt\n",
    "import matplotlib.colors as plt_colors\n",
    "from matplotlib.axes._axes import _log as matplotlib_axes_logger\n",
    "matplotlib_axes_logger.setLevel('ERROR')\n",
    "import scipy.stats as st\n",
    "import holoviews as hv\n",
    "hv.extension('bokeh')\n",
    "from holoviews import dim\n",
    "from IPython.display import Markdown, display\n",
    "from IPython.core.display import HTML\n",
    "\n",
    "import matplotlib\n",
    "fontsize = 16\n",
    "matplotlib.rc('xtick', labelsize=fontsize)     \n",
    "matplotlib.rc('ytick', labelsize=fontsize)\n",
    "matplotlib.rc('axes', labelsize=fontsize, titlesize=fontsize)\n",
    "\n",
    "pd.set_option('display.max_columns', 500)\n",
    "pd.set_option('display.width', 1000)\n",
    "\n",
    "from bokeh.models.formatters import DatetimeTickFormatter\n",
    "\n",
    "formatter = DatetimeTickFormatter(months='%b %Y')\n",
    "\n",
    "from counts_analysis.c_utils import COUNTS_CSV, CLASSES, set_settings, set_counts_v2, rename_columns\n",
    "\n",
    "#== Load Datasets ==#\n",
    "df = pd.read_csv(COUNTS_CSV['counts'])\n",
    "df = rename_columns(df)\n",
    "# Dataset without problematic classes (Gyrodinium, Pseudo-nitzchia chain)\n",
    "df_ = df[df['class'].isin(CLASSES)].reset_index(drop=True)\n",
    "df['datetime'] = pd.to_datetime(df['datetime'], format='%Y-%m-%d')\n",
    "data = df.copy()\n",
    "\n",
    "def printmd(string):\n",
    "    display(Markdown(string))\n",
    "\n",
    "#=== Set count forms & settings ===#\n",
    "# COUNT\n",
    "volumetric_counts = set_counts_v2('cells/mL', micro_default=True)\n",
    "\n",
    "raw_counts = set_counts_v2('count', micro_default=False)\n",
    "raw_counts_pred = set_counts_v2('count', micro_default=False, automated=True)\n",
    "\n",
    "vol_time_counts = set_counts_v2('count', micro_default=True)\n",
    "\n",
    "class_percentage_counts = set_counts_v2('class percentage', micro_default=False) \n",
    "\n",
    "rel_counts = set_counts_v2('relative abundance', micro_default=False)\n",
    "rel_counts = ['Lab-micro cells/mL relative abundance'] + list(rel_counts[1:])"
   ]
  },
  {
   "cell_type": "code",
   "execution_count": null,
   "metadata": {},
   "outputs": [],
   "source": [
    "def compute_volumetric(spc_camera, data):\n",
    "    \"\"\"\n",
    "    Usage\n",
    "    \n",
    "    >>> compute_volumetric(spc_camera='Auto-Pier', data)\n",
    "    >>> compute_volumetric(spc_camera='SPC-Pier', data)\n",
    "    \n",
    "    \"\"\"\n",
    "    if 'Pier' in spc_camera:\n",
    "        normalization_factor = 160\n",
    "    else:\n",
    "        normalization_factor = 60\n",
    "    data[f'{spc_camera} cells/mL'] = data[f'{spc_camera} count'] / normalization_factor\n",
    "    return data\n",
    "\n",
    "def compute_class_percentage(raw_count, data):\n",
    "    if 'cells/mL' in raw_count:\n",
    "        relative_column = 'Lab-micro cells/mL class percentage'\n",
    "    else:\n",
    "        relative_column = '{} class percentage'.format(raw_count.split(\" count\")[0])\n",
    "    data[relative_column] = data.groupby('datetime')[raw_count].apply(lambda x: x / x.sum() * 100.0 if sum(x) != 0 else x)\n",
    "    return data\n",
    "\n",
    "def compute_relative_abundance(raw_count, data):\n",
    "    if 'cells/mL' in raw_count:\n",
    "        relative_column = 'Lab-micro cells/mL relative abundance'\n",
    "    else:\n",
    "        relative_column = '{} relative abundance'.format(raw_count.split(\" count\")[0])\n",
    "    data[relative_column] = data.groupby('class')[raw_count].apply(lambda x: x / x.sum() * 100.0 if sum(x) != 0 else x)\n",
    "    return data\n",
    "\n",
    "def preprocess_raw_counts(count_form, raw_counts, data):\n",
    "    if count_form == 'volumetric':\n",
    "        compute_fn = compute_volumetric\n",
    "        \n",
    "    elif count_form == 'class percentage':\n",
    "        compute_fn = compute_class_percentage\n",
    "        \n",
    "    elif count_form == 'relative abundance':\n",
    "        compute_fn = compute_relative_abundance\n",
    "    \n",
    "    for rc in raw_counts:\n",
    "        data = compute_fn(rc, data)\n",
    "    return data\n",
    "\n",
    "#todo maybe load dataset???\n",
    "\n",
    "data = df.copy()\n",
    "\n",
    "data = preprocess_raw_counts('class percentage', raw_counts, data)\n",
    "data = preprocess_raw_counts('relative abundance', raw_counts, data)\n",
    "\n",
    "dominant_cls = ['Lingulodinium polyedra', 'Prorocentrum micans', 'Pseudo-nitzschia chain']\n",
    "dominant_cls_df = data[data['class'].isin(dominant_cls)].reset_index(drop=True)\n",
    "rare_cls_df = data[~data['class'].isin(dominant_cls)].reset_index(drop=True)\n",
    "rare_cls = sorted(rare_cls_df['class'].unique())\n",
    "\n",
    "verbose = False\n",
    "if verbose:\n",
    "    display(data[['class', 'datetime'] + volumetric_counts].head(9))\n",
    "\n",
    "    display(data[['class', 'datetime'] + raw_counts].head(9))\n",
    "\n",
    "    display(data[['class', 'datetime'] + vol_time_counts].head(9))\n",
    "    \n",
    "    display(data[['class', 'datetime'] + class_percentage_counts].head(9))\n",
    "    \n",
    "    display(data[['class', 'datetime'] + rel_counts].head(9))\n"
   ]
  },
  {
   "cell_type": "code",
   "execution_count": null,
   "metadata": {},
   "outputs": [],
   "source": [
    "COUNT_FORM = raw_counts"
   ]
  },
  {
   "cell_type": "markdown",
   "metadata": {},
   "source": [
    "# ================ Lab-Micro ================"
   ]
  },
  {
   "cell_type": "code",
   "execution_count": null,
   "metadata": {},
   "outputs": [],
   "source": [
    "SMPL_METHOD = COUNT_FORM[0]\n",
    "import hvplot.pandas\n",
    "title = 'Total Counts'\n",
    "color = 'blue'\n",
    "\n",
    "printmd(f'## [{SMPL_METHOD}] {title} Time Series & Distribution')\n",
    "x = data.groupby('datetime')[SMPL_METHOD].sum().hvplot.line(rot=30, color=color, xformatter=formatter).opts(height=300, width=600, tools=['hover'])\n",
    "\n",
    "y = data.groupby('datetime')[SMPL_METHOD].sum().hvplot.box(rot=0, color=color).opts(tools=['hover'])\n",
    "\n",
    "z = data.groupby('datetime')[SMPL_METHOD].sum().hvplot.hist(rot=0, color=color).opts(tools=['hover'])\n",
    "\n",
    "display(data.groupby('datetime')[SMPL_METHOD].sum().to_frame().transpose())\n",
    "display(data.groupby('datetime')[SMPL_METHOD].sum().describe().to_frame().transpose())\n",
    "\n",
    "hv.Layout(x + y + z).cols(3)"
   ]
  },
  {
   "cell_type": "markdown",
   "metadata": {},
   "source": [
    "#### Analysis\n",
    "- Median (131) seems to be reliable value for understanding total counts collected over 26 days\n",
    "- #TODO what's making up most of these high consistent counts???"
   ]
  },
  {
   "cell_type": "code",
   "execution_count": null,
   "metadata": {},
   "outputs": [],
   "source": [
    "data.groupby('datetime')['Lab-micro volume counted (ml)']"
   ]
  },
  {
   "cell_type": "code",
   "execution_count": null,
   "metadata": {},
   "outputs": [],
   "source": [
    "\"\"\"\n",
    "META DATA\n",
    "\"\"\"\n",
    "from counts_analysis.gtruth_analysis import plot_meta_time_series\n",
    "printmd(f'## [{SMPL_METHOD}] Meta Data')\n",
    "printmd('### Lab-micro Volume Counted (mL) Time Series')\n",
    "display(data.groupby('datetime')['Lab-micro volume counted (ml)'].agg('mean').to_frame().transpose())\n",
    "display(data.groupby('datetime')['Lab-micro volume counted (ml)'].agg('mean').describe().transpose())\n",
    "plot_meta_time_series('Lab-micro volume counted (ml)', data, logged=False)"
   ]
  },
  {
   "cell_type": "markdown",
   "metadata": {},
   "source": [
    "#### Analysis of Volume Counted\n",
    "- Data points of high volumes counted: 08-05, 09-03, 09-16\n",
    "- #TODO figure out how total counts correlate with this"
   ]
  },
  {
   "cell_type": "code",
   "execution_count": null,
   "metadata": {},
   "outputs": [],
   "source": [
    "printmd('### Lab-micro Cell Detection Count Limit Time Series')\n",
    "display(data.groupby('datetime')['Lab-micro cell count detection limit'].unique().to_frame().transpose())\n",
    "display(data.groupby('datetime')['Lab-micro cell count detection limit'].unique().describe().transpose())\n",
    "plot_meta_time_series('Lab-micro cell count detection limit', data, logged=False)"
   ]
  },
  {
   "cell_type": "markdown",
   "metadata": {},
   "source": [
    "#### Analysis of Cell Detection Count Limit\n",
    "- Low cell points correspond with volume counted ~ 08-05 (131), 09-03 (136), 09-16 (136)"
   ]
  },
  {
   "cell_type": "code",
   "execution_count": null,
   "metadata": {},
   "outputs": [],
   "source": [
    "\"\"\"\n",
    "CLASS DISTRIBUTIONS\n",
    "\"\"\"\n",
    "printmd(f'## [{SMPL_METHOD}] Class Distribution')\n",
    "from counts_analysis.gtruth_analysis import plot_total_distribution, plot_class_distribution_over_period\n",
    "display(data.groupby('class')[SMPL_METHOD].sum().to_frame().transpose())\n",
    "display(data.groupby('class')[SMPL_METHOD].sum().describe().to_frame().transpose())\n",
    "\n",
    "plot_total_distribution(SMPL_METHOD, data=data, logged=False)"
   ]
  },
  {
   "cell_type": "code",
   "execution_count": null,
   "metadata": {},
   "outputs": [],
   "source": [
    "printmd('#### Total Counts Distribution for Dominant Classes Only')\n",
    "display(dominant_cls_df.groupby('class')[SMPL_METHOD].sum().describe().to_frame().transpose())\n",
    "\n",
    "printmd('#### Total Counts Distribution for Rare Classes Only')\n",
    "display(rare_cls_df.groupby('class')[SMPL_METHOD].sum().describe().to_frame().transpose())"
   ]
  },
  {
   "cell_type": "markdown",
   "metadata": {},
   "source": [
    "#### Analysis of Total Class Distribution\n",
    "- Rare classes seem to be Akashiwo, Ceratiums, Chattonella, & Gyrodinium from Lab-micro perspective\n",
    "- Median count per class after 26 days is 55. Very wide IQR & Range (21-1527; 1-1919).\n",
    "- Clear there is a difference in distribution for DOMINANT (median: 1798) vs RARE classes (median: 25)"
   ]
  },
  {
   "cell_type": "code",
   "execution_count": null,
   "metadata": {},
   "outputs": [],
   "source": [
    "printmd('### Average Distribution over 26 Days for Class Counts')\n",
    "plot_class_distribution_over_period(stats_descriptor='mean', smpl_technique=SMPL_METHOD, data=data); plt.show();\n",
    "\n",
    "# plot_class_distribution_over_period(stats_descriptor='median', smpl_technique=SMPL_METHOD, data=data); plt.show();"
   ]
  },
  {
   "cell_type": "markdown",
   "metadata": {},
   "source": [
    "#### Analysis for Average Distribution over 26 Days for Class Counts\n",
    "- Seems like it's obvious here that the median is zero for the rare classes. Averages are also fairly close."
   ]
  },
  {
   "cell_type": "code",
   "execution_count": null,
   "metadata": {},
   "outputs": [],
   "source": [
    "\"\"\"\n",
    "DOMINANT X RARE CLASS AVG DISTRIBUTION\n",
    "\"\"\"\n",
    "printmd('#### Dominant Class Time Series')\n",
    "plot_class_distribution_over_period(stats_descriptor='mean', smpl_technique=SMPL_METHOD, data=dominant_cls_df); plt.show();\n",
    "\n",
    "smpl_technique = COUNT_FORM[0]\n",
    "stacked = dominant_cls_df.set_index(['datetime', 'class'])[smpl_technique].unstack().reset_index()\n",
    "display(stacked[dominant_cls].apply(pd.Series.value_counts).fillna(0).astype(int).transpose())\n",
    "stacked.hvplot.hist(y=dominant_cls, bins=[0,1,5,10,15,20,50,100,150,185,245,255,385,400,990,1050], alpha=0.5, subplots=True)"
   ]
  },
  {
   "cell_type": "code",
   "execution_count": null,
   "metadata": {},
   "outputs": [],
   "source": [
    "non_detected_days = stacked[dominant_cls].apply(pd.Series.value_counts).fillna(0).astype(int).transpose()[0] / 26\n",
    "display(non_detected_days.to_frame().transpose())\n",
    "display(non_detected_days.describe().to_frame().transpose())\n",
    "non_detected_days.hvplot.bar(rot=30).opts(title='Number of Zero Count Days per Species', ylabel='Percentage of Days (N=26)')"
   ]
  },
  {
   "cell_type": "code",
   "execution_count": null,
   "metadata": {},
   "outputs": [],
   "source": [
    "printmd('#### Rare Class Time Series')\n",
    "plot_class_distribution_over_period(stats_descriptor='mean', smpl_technique=SMPL_METHOD, data=rare_cls_df); plt.show();\n",
    "\n",
    "smpl_technique = COUNT_FORM[0]\n",
    "stacked = rare_cls_df.set_index(['datetime', 'class'])[smpl_technique].unstack().reset_index()\n",
    "display(stacked[rare_cls].apply(pd.Series.value_counts).fillna(0).astype(int).transpose())\n",
    "stacked.hvplot.hist(y=rare_cls, bins=[0,1,3,5,7,10,15,20,25], alpha=0.5, subplots=True)"
   ]
  },
  {
   "cell_type": "code",
   "execution_count": null,
   "metadata": {},
   "outputs": [],
   "source": [
    "non_detected_days = stacked[rare_cls].apply(pd.Series.value_counts).fillna(0).astype(int).transpose()[0] / 26\n",
    "display(non_detected_days.to_frame().transpose())\n",
    "display(non_detected_days.describe().to_frame().transpose())\n",
    "non_detected_days.hvplot.bar(rot=30).opts(title='Number of Zero Count Days per Species', ylabel='Percentage of Days (N=26)')"
   ]
  },
  {
   "cell_type": "markdown",
   "metadata": {},
   "source": [
    "#### Analysis for Dominant x Rare Class\n",
    "- For all rare classes average percentage of zero count days over 6 species is 75% with std dev of 0.17. This is quite high for the number of species and dates and helps back up what we saw from the total distribution of the dominant species"
   ]
  },
  {
   "cell_type": "code",
   "execution_count": null,
   "metadata": {},
   "outputs": [],
   "source": [
    "\"\"\"\n",
    "CLASS TIME SERIES\n",
    "\"\"\"\n",
    "from counts_analysis.gtruth_analysis import plot_class_time_series\n",
    "title = 'Class'\n",
    "printmd(f'### [{SMPL_METHOD}] {title} Time Series')\n",
    "plot_class_time_series(SMPL_METHOD, data, logged=False)\n",
    "printmd(f'### [{SMPL_METHOD}] {title} Time Series (Logged)')\n",
    "plot_class_time_series(SMPL_METHOD, data, logged=True)"
   ]
  },
  {
   "cell_type": "code",
   "execution_count": null,
   "metadata": {},
   "outputs": [],
   "source": [
    "printmd('#### Dominant Class Time Series')\n",
    "plot_class_time_series(SMPL_METHOD, dominant_cls_df, logged=False)"
   ]
  },
  {
   "cell_type": "code",
   "execution_count": null,
   "metadata": {},
   "outputs": [],
   "source": [
    "printmd('#### Rare Class Time Series')\n",
    "plot_class_time_series(SMPL_METHOD, rare_cls_df, logged=False)"
   ]
  },
  {
   "cell_type": "markdown",
   "metadata": {},
   "source": [
    "#### Analysis for Class Time Series\n",
    "- From here it seems like there's two peaks within the microscopy of when all of the counts showed up. It seems to be a new date (2019-08-26). \n",
    "- Also of the elevated period, 2019-05-28, the ability to find Akashiwo which previously had a huge elevation on 2019-05-23 was worse.\n",
    "- It seems the ceratium classes appeared together"
   ]
  },
  {
   "cell_type": "code",
   "execution_count": null,
   "metadata": {},
   "outputs": [],
   "source": [
    "SMPL_METHOD = COUNT_FORM[0]\n",
    "import hvplot.pandas\n",
    "title = 'Total Counts x Dominant Cls x Rare Cls'\n",
    "color = 'blue'\n",
    "\n",
    "printmd(f'## [{SMPL_METHOD}] {title} Time Series & Distribution')\n",
    "x = data.groupby('datetime')[SMPL_METHOD].sum().hvplot.line(rot=30, color=color, label='Total Counts', xformatter=formatter).opts(height=300, width=600, tools=['hover'])\n",
    "\n",
    "y = dominant_cls_df.groupby('datetime')[SMPL_METHOD].sum().hvplot.line(rot=30, color='red', label='Dominant Class', xformatter=formatter).opts(height=300, width=600, tools=['hover'])\n",
    "\n",
    "z = rare_cls_df.groupby('datetime')[SMPL_METHOD].sum().hvplot.line(rot=30, color='orange', label='Rare Class', xformatter=formatter).opts(height=300, width=600, tools=['hover'])\n",
    "\n",
    "printmd('Total Distribution')\n",
    "# display(data.groupby('datetime')[SMPL_METHOD].sum().to_frame().transpose())\n",
    "display(data.groupby('datetime')[SMPL_METHOD].sum().describe().to_frame().transpose())\n",
    "\n",
    "printmd('Dominant Class Totals Distribution')\n",
    "# display(dominant_cls_df.groupby('datetime')[SMPL_METHOD].sum().to_frame().transpose())\n",
    "display(dominant_cls_df.groupby('datetime')[SMPL_METHOD].sum().describe().to_frame().transpose())\n",
    "\n",
    "printmd('Rare Class Totals Distribution')\n",
    "# display(rare_cls_df.groupby('datetime')[SMPL_METHOD].sum().to_frame().transpose())\n",
    "display(rare_cls_df.groupby('datetime')[SMPL_METHOD].sum().describe().to_frame().transpose())\n",
    "\n",
    "hv.Layout(x * y * z)"
   ]
  },
  {
   "cell_type": "markdown",
   "metadata": {},
   "source": [
    "#### Analysis of Total x Dominant x Rare\n",
    "- From this perspective it's very clear that the dominant class groups make up the total samples from the microscopy samples"
   ]
  },
  {
   "cell_type": "markdown",
   "metadata": {},
   "source": [
    "## Interaction of Classes"
   ]
  },
  {
   "cell_type": "code",
   "execution_count": null,
   "metadata": {},
   "outputs": [],
   "source": [
    "\"\"\"\n",
    "CLASS HEATMAP\n",
    "\"\"\"\n",
    "from counts_analysis.gtruth_analysis import plot_heatmap\n",
    "title = 'Class x Datetime x '\n",
    "printmd(f'## [{SMPL_METHOD}] {title} HeatMap')\n",
    "lab_micro_heatmap = plot_heatmap(SMPL_METHOD, data)\n",
    "lab_micro_heatmap"
   ]
  },
  {
   "cell_type": "code",
   "execution_count": null,
   "metadata": {},
   "outputs": [],
   "source": [
    "from counts_analysis.gtruth_analysis import plot_heatmap\n",
    "\n",
    "title = 'Class x Datetime x [Dominant x Rare]'\n",
    "printmd(f'## [{SMPL_METHOD}] {title} HeatMap')\n",
    "\n",
    "sample_technique = SMPL_METHOD\n",
    "counts_df = dominant_cls_df.copy()\n",
    "counts_df = counts_df.sort_values(by=['class', 'datetime'])\n",
    "sdata = hv.Dataset(data=counts_df, kdims=['class', 'datetime'])\n",
    "dominant_heatmap = sdata.to(hv.HeatMap, ['datetime', 'class'], sample_technique).opts(\n",
    "    title=sample_technique, colorbar=True, width=1000, height=300, xrotation=60, tools=['hover'], shared_axes=True)\n",
    "\n",
    "# heatmap_data\n",
    "dominant_heatmap"
   ]
  },
  {
   "cell_type": "code",
   "execution_count": null,
   "metadata": {},
   "outputs": [],
   "source": [
    "counts_df = rare_cls_df.copy()\n",
    "counts_df = counts_df.sort_values(by=['class', 'datetime'])\n",
    "sdata = hv.Dataset(data=counts_df, kdims=['class', 'datetime'])\n",
    "rare_heatmap = sdata.to(hv.HeatMap, ['datetime', 'class'], sample_technique).opts(\n",
    "    title=sample_technique, colorbar=True, width=1000, height=300, xrotation=60, tools=['hover'], shared_axes=True)\n",
    "rare_heatmap"
   ]
  },
  {
   "cell_type": "markdown",
   "metadata": {},
   "source": [
    "#### Analysis of Dominant x Rare Class HeatMap\n",
    "- 2019-09-03 had a high count of Chattonella which corresponds to the change in cell volume.\n",
    "- 2019-08-26 also seemed like a high peak of rare species"
   ]
  },
  {
   "cell_type": "code",
   "execution_count": null,
   "metadata": {},
   "outputs": [],
   "source": [
    "formatter = DatetimeTickFormatter(months='%b %Y')\n",
    "\n",
    "def plot_stacked_bar_chart(smpl_technique, data):\n",
    "    stacked = data.set_index(['datetime', 'class'])[smpl_technique].unstack().reset_index()\n",
    "    stacked['datetime'] = pd.to_datetime(stacked['datetime'], format=\"%Y-%m-%d\")\n",
    "    print(stacked.info())\n",
    "    print(stacked.head())\n",
    "    plot = stacked.hvplot.bar(x='datetime', y=sorted(list(data['class'].unique())), stacked=True, rot=30).opts(width=1000, height=600, title=smpl_technique)\n",
    "    return plot\n",
    "\n",
    "display(data.groupby('datetime')[SMPL_METHOD].sum().to_frame().transpose())\n",
    "display(data.groupby('datetime')[SMPL_METHOD].sum().describe().to_frame().transpose())\n",
    "\n",
    "micro = plot_stacked_bar_chart(COUNT_FORM[0], data)\n",
    "micro.opts(logy=True)"
   ]
  },
  {
   "cell_type": "code",
   "execution_count": null,
   "metadata": {},
   "outputs": [],
   "source": [
    "micro_class_percentage = plot_stacked_bar_chart(class_percentage_counts[0], data)\n",
    "micro_class_percentage\n",
    "\n",
    "\"\"\"\n",
    "CLASS HEATMAP\n",
    "\"\"\"\n",
    "from counts_analysis.gtruth_analysis import plot_heatmap\n",
    "title = 'Class x Datetime x '\n",
    "lab_micro_heatmap = plot_heatmap(SMPL_METHOD, data)\n",
    "\n",
    "micro_table = data.groupby('datetime')[SMPL_METHOD].sum().to_frame().transpose().hvplot.table(width=1750)\n",
    "\n",
    "hv.Layout(micro_class_percentage + lab_micro_heatmap + micro_table).cols(1)"
   ]
  },
  {
   "cell_type": "code",
   "execution_count": null,
   "metadata": {},
   "outputs": [],
   "source": [
    "printmd('#### Average Pseudo-nitzschia Class Percentage Distribution')\n",
    "display(data[data['class'] == 'Pseudo-nitzschia chain'][class_percentage_counts[0]].describe().to_frame().transpose())\n",
    "\n",
    "printmd('#### Average Prorocentrum micans Class Percentage Distribution')\n",
    "display(data[data['class'] == 'Prorocentrum micans'][class_percentage_counts[0]].describe().to_frame().transpose())\n",
    "\n",
    "printmd('#### Average Lingulodinium polyedra Class Percentage Distribution')\n",
    "display(data[data['class'] == 'Lingulodinium polyedra'][class_percentage_counts[0]].describe().to_frame().transpose())\n",
    "\n",
    "print('Sum of averaged class percentage between all 3 species: ', 54.323748 + 26.227725 + 15.930692)"
   ]
  },
  {
   "cell_type": "markdown",
   "metadata": {},
   "source": [
    "#### Analysis of Stacked Bar Chart\n",
    "- From here it seems like a majority of the percentage of counts are from the Pseudo-nitzschia chain during ambient days, followed by Prorocentrum micans.\n",
    "- For almost all samples, almost 96% of the time these species were the Dominant Species. [54, 26, 15]\n",
    "- Seems like there's a difference in detecting Prorocentrum micans vs Lingulodinium polyedras\n",
    "- During the ambient period, it seems like the Ceratium Falcatiforme or Fusus popped up a lot with the Prorocentrum micans. Same with Chattonella\n",
    "- Cochlodinium showed up the day several days before the spike in Prorocentrum micans"
   ]
  },
  {
   "cell_type": "code",
   "execution_count": null,
   "metadata": {},
   "outputs": [],
   "source": [
    "title = 'Raw Data'\n",
    "printmd(f'## [{SMPL_METHOD}] {title}')\n",
    "data[['class', 'datetime', 'Lab-micro volume counted (ml)', 'Lab-micro cell count detection limit', 'Lab-micro cells/mL', 'Lab-micro count']].head(27)"
   ]
  },
  {
   "cell_type": "markdown",
   "metadata": {},
   "source": [
    "# ================ SPC-Lab ================"
   ]
  },
  {
   "cell_type": "code",
   "execution_count": null,
   "metadata": {},
   "outputs": [],
   "source": [
    "SMPL_METHOD_1 = COUNT_FORM[1]\n",
    "import hvplot.pandas\n",
    "title = 'Total Counts'\n",
    "color = 'orange'\n",
    "\n",
    "printmd(f'## [{SMPL_METHOD_1}] {title} Time Series & Distribution')\n",
    "x = data.groupby('datetime')[SMPL_METHOD_1].sum().hvplot.line(rot=30, color=color, xformatter=formatter).opts(height=300, width=600, tools=['hover'])\n",
    "\n",
    "y = data.groupby('datetime')[SMPL_METHOD_1].sum().hvplot.box(rot=0, color=color).opts(tools=['hover'])\n",
    "\n",
    "z = data.groupby('datetime')[SMPL_METHOD_1].sum().hvplot.hist(rot=0, color=color).opts(tools=['hover'])\n",
    "\n",
    "display(data.groupby('datetime')[SMPL_METHOD_1].sum().to_frame().transpose())\n",
    "display(data.groupby('datetime')[SMPL_METHOD_1].sum().describe().to_frame().transpose())\n",
    "\n",
    "hv.Layout(x + y + z).cols(3)"
   ]
  },
  {
   "cell_type": "markdown",
   "metadata": {},
   "source": [
    "#### Analysis of Total Counts\n",
    "- Total Counts overall are much lower than Lab-micro. [Lab-micro median (131) vs SPC-Lab median (18)] MUCH lower. "
   ]
  },
  {
   "cell_type": "code",
   "execution_count": null,
   "metadata": {},
   "outputs": [],
   "source": [
    "\"\"\"\n",
    "CLASS DISTRIBUTIONS\n",
    "\"\"\"\n",
    "printmd(f'## [{SMPL_METHOD_1}] Class Distribution')\n",
    "from counts_analysis.gtruth_analysis import plot_total_distribution, plot_class_distribution_over_period\n",
    "\n",
    "display(data.groupby('class')[SMPL_METHOD_1].sum().to_frame().transpose())\n",
    "display(data.groupby('class')[SMPL_METHOD_1].sum().describe().to_frame().transpose())\n",
    "\n",
    "plot_total_distribution(SMPL_METHOD_1, data=data, logged=False)"
   ]
  },
  {
   "cell_type": "markdown",
   "metadata": {},
   "source": [
    "#### Analysis for Accumulated Class Count Distribution\n",
    "- Overall it seems like there's more rare classes accounted for even though the total counts are lower.\n",
    "- Prorocentrum micans make up 50% of the accumulated class counts"
   ]
  },
  {
   "cell_type": "code",
   "execution_count": null,
   "metadata": {},
   "outputs": [],
   "source": [
    "printmd('#### Total Counts Distribution for Dominant Classes Only')\n",
    "display(dominant_cls_df.groupby('class')[SMPL_METHOD_1].sum().describe().to_frame().transpose())\n",
    "\n",
    "printmd('#### Total Counts Distribution for Rare Classes Only')\n",
    "display(rare_cls_df.groupby('class')[SMPL_METHOD_1].sum().describe().to_frame().transpose())"
   ]
  },
  {
   "cell_type": "markdown",
   "metadata": {},
   "source": [
    "#### Analysis for Dominant vs Rare Accumulated Distribution\n",
    "- Yes seems like therer's a difference between the two group of classes. Average is definitely much higher here."
   ]
  },
  {
   "cell_type": "code",
   "execution_count": null,
   "metadata": {},
   "outputs": [],
   "source": [
    "printmd('### Average Distribution over 26 Days for Class Counts')\n",
    "\n",
    "plot_class_distribution_over_period(stats_descriptor='mean', smpl_technique=SMPL_METHOD_1, data=data); plt.show();\n",
    "\n",
    "# plot_class_distribution_over_period(stats_descriptor='median', smpl_technique=SMPL_METHOD_1, data=data); plt.show();"
   ]
  },
  {
   "cell_type": "markdown",
   "metadata": {},
   "source": [
    "#### Analysis\n",
    "- From here the rare classes are still the same. Also same median zero abundance (raw count). \n",
    "- SPC-Lab seems to validate and agree with Lab-micro but doesn't accumulate as many counts. "
   ]
  },
  {
   "cell_type": "code",
   "execution_count": null,
   "metadata": {},
   "outputs": [],
   "source": [
    "\"\"\"\n",
    "DOMINANT X RARE CLASS AVG DISTRIBUTION\n",
    "\"\"\"\n",
    "printmd('#### Dominant Class Time Series')\n",
    "plot_class_distribution_over_period(stats_descriptor='mean', smpl_technique=SMPL_METHOD_1, data=dominant_cls_df); plt.show();\n",
    "\n",
    "smpl_technique = COUNT_FORM[1]\n",
    "stacked = dominant_cls_df.set_index(['datetime', 'class'])[smpl_technique].unstack().reset_index()\n",
    "display(stacked[dominant_cls].apply(pd.Series.value_counts).fillna(0).astype(int).transpose())\n",
    "stacked.hvplot.hist(y=dominant_cls, alpha=0.5, subplots=True)"
   ]
  },
  {
   "cell_type": "code",
   "execution_count": null,
   "metadata": {},
   "outputs": [],
   "source": [
    "non_detected_days = stacked[dominant_cls].apply(pd.Series.value_counts).fillna(0).astype(int).transpose()[0] / 26\n",
    "display(non_detected_days.to_frame().transpose())\n",
    "display(non_detected_days.describe().to_frame().transpose())\n",
    "non_detected_days.hvplot.bar(rot=30).opts(title='Number of Zero Count Days per Species', ylabel='Percentage of Days (N=26)')"
   ]
  },
  {
   "cell_type": "code",
   "execution_count": null,
   "metadata": {},
   "outputs": [],
   "source": [
    "printmd('#### Rare Class Time Series')\n",
    "plot_class_distribution_over_period(stats_descriptor='mean', smpl_technique=SMPL_METHOD_1, data=rare_cls_df); plt.show();\n",
    "\n",
    "smpl_technique = COUNT_FORM[1]\n",
    "stacked = rare_cls_df.set_index(['datetime', 'class'])[smpl_technique].unstack().reset_index()\n",
    "display(stacked[rare_cls].apply(pd.Series.value_counts).fillna(0).astype(int).transpose())\n",
    "stacked.hvplot.hist(y=rare_cls, bins=[0,1,3,5,7,10,15,20,25], alpha=0.5, subplots=True)"
   ]
  },
  {
   "cell_type": "code",
   "execution_count": null,
   "metadata": {},
   "outputs": [],
   "source": [
    "non_detected_days = stacked[rare_cls].apply(pd.Series.value_counts).fillna(0).astype(int).transpose()[0] / 26\n",
    "display(non_detected_days.to_frame().transpose())\n",
    "display(non_detected_days.describe().to_frame().transpose())\n",
    "non_detected_days.hvplot.bar(rot=30).opts(title='Number of Zero Count Days per Species', ylabel='Percentage of Days (N=26)')"
   ]
  },
  {
   "cell_type": "markdown",
   "metadata": {},
   "source": [
    "#### Analysis for Dominant x Rare Classes Distributions\n",
    "- Okay the average is definitely a little bit lower here (SPC-Lab 62% (std 26%) vs Lab-micro 75% (std )\n",
    "- However, this could be due to the Gyrodinium dropping the average.\n",
    "- Species against each other, they actually have very similar capture rates of not detecting these species.\n",
    "- They both couldn't capture ceratium furca 50% of the times and akashiwo 80% >. Cochlodinium 65% vs 69%"
   ]
  },
  {
   "cell_type": "code",
   "execution_count": null,
   "metadata": {},
   "outputs": [],
   "source": [
    "\"\"\"\n",
    "CLASS TIME SERIES\n",
    "\"\"\"\n",
    "from counts_analysis.gtruth_analysis import plot_class_time_series\n",
    "title = 'Class'\n",
    "printmd(f'### [{SMPL_METHOD_1}] {title} Time Series')\n",
    "plot_class_time_series(SMPL_METHOD_1, data, logged=False)\n",
    "printmd(f'### [{SMPL_METHOD_1}] {title} Time Series (Logged)')\n",
    "plot_class_time_series(SMPL_METHOD_1, data, logged=True)"
   ]
  },
  {
   "cell_type": "code",
   "execution_count": null,
   "metadata": {},
   "outputs": [],
   "source": [
    "printmd('#### Rare Class Time Series')\n",
    "plot_class_time_series(SMPL_METHOD_1, rare_cls_df, logged=False)\n",
    "\n",
    "# filtered_data = rare_cls_df[rare_cls_df['datetime'] <= '2019-06-03']\n",
    "# plot_class_time_series(SMPL_METHOD_1, filtered_data, logged=False)"
   ]
  },
  {
   "cell_type": "markdown",
   "metadata": {},
   "source": [
    "#### Analysis of Class time Series\n",
    "- Seems there was a consistent peak for the Lab around 08-26 and 09-03, which was one of the dates the cell detection count limit changed. 9-16 did not appear though.\n",
    "- Also it seems only the bloom affected the Prorocentrum micans & Lingulodinium polyedra. No pseudo-nitzschia chains. \n",
    "- The Rare species collected by SPC-Lab did not seeem to experience an inflation compared to Lab-micro\n",
    "\n",
    "Question: what would be the reason why we're not able to detect some of these rare species that often?"
   ]
  },
  {
   "cell_type": "code",
   "execution_count": null,
   "metadata": {},
   "outputs": [],
   "source": [
    "SMPL_METHOD = COUNT_FORM[1]\n",
    "import hvplot.pandas\n",
    "title = 'Total Counts x Dominant Cls x Rare Cls'\n",
    "color = 'blue'\n",
    "\n",
    "printmd(f'## [{SMPL_METHOD}] {title} Time Series & Distribution')\n",
    "x = data.groupby('datetime')[SMPL_METHOD].sum().hvplot.line(rot=30, color=color, label='Total Counts', xformatter=formatter).opts(height=300, width=600, tools=['hover'])\n",
    "\n",
    "y = dominant_cls_df.groupby('datetime')[SMPL_METHOD].sum().hvplot.line(rot=30, color='red', label='Dominant Class', xformatter=formatter).opts(height=300, width=600, tools=['hover'])\n",
    "\n",
    "z = rare_cls_df.groupby('datetime')[SMPL_METHOD].sum().hvplot.line(rot=30, color='orange', label='Rare Class', xformatter=formatter).opts(height=300, width=600, tools=['hover'])\n",
    "\n",
    "printmd('Total Distribution')\n",
    "# display(data.groupby('datetime')[SMPL_METHOD].sum().to_frame().transpose())\n",
    "display(data.groupby('datetime')[SMPL_METHOD].sum().describe().to_frame().transpose())\n",
    "\n",
    "printmd('Dominant Class Totals Distribution')\n",
    "# display(dominant_cls_df.groupby('datetime')[SMPL_METHOD].sum().to_frame().transpose())\n",
    "display(dominant_cls_df.groupby('datetime')[SMPL_METHOD].sum().describe().to_frame().transpose())\n",
    "\n",
    "printmd('Rare Class Totals Distribution')\n",
    "# display(rare_cls_df.groupby('datetime')[SMPL_METHOD].sum().to_frame().transpose())\n",
    "display(rare_cls_df.groupby('datetime')[SMPL_METHOD].sum().describe().to_frame().transpose())\n",
    "\n",
    "hv.Layout(x * y * z)"
   ]
  },
  {
   "cell_type": "markdown",
   "metadata": {},
   "source": [
    "#### Analysis\n",
    "- From this perspective, it seems that the SPC-Lab does in fact validate the Microscopy in dominant classes making up the total counts.\n",
    "- #TODO write justification for low counts"
   ]
  },
  {
   "cell_type": "code",
   "execution_count": null,
   "metadata": {},
   "outputs": [],
   "source": [
    "def plot_stacked_bar_chart(smpl_technique, data):\n",
    "    stacked = data.set_index(['datetime', 'class'])[smpl_technique].unstack().reset_index()\n",
    "    plot = stacked.hvplot.bar(x='datetime', y=sorted(list(data['class'].unique())), stacked=True, rot=30).opts(width=1000, height=600, title=smpl_technique)\n",
    "    print(plot.dimensions)\n",
    "    return plot\n",
    "\n",
    "display(data.groupby('datetime')[SMPL_METHOD_1].sum().to_frame().transpose())\n",
    "display(data.groupby('datetime')[SMPL_METHOD_1].sum().describe().to_frame().transpose())\n",
    "\n",
    "micro = plot_stacked_bar_chart(COUNT_FORM[1], data)\n",
    "micro.opts(logy=True)"
   ]
  },
  {
   "cell_type": "code",
   "execution_count": null,
   "metadata": {},
   "outputs": [],
   "source": [
    "lab_class_percentage = plot_stacked_bar_chart(class_percentage_counts[1], data)\n",
    "\n",
    "\"\"\"\n",
    "CLASS HEATMAP\n",
    "\"\"\"\n",
    "from counts_analysis.gtruth_analysis import plot_heatmap\n",
    "title = 'Class x Datetime x '\n",
    "spc_lab_heatmap = plot_heatmap(SMPL_METHOD_1, data)\n",
    "\n",
    "lab_table = data.groupby('datetime')[SMPL_METHOD_1].sum().to_frame().transpose().hvplot.table(width=1750)\n",
    "\n",
    "hv.Layout(lab_class_percentage + spc_lab_heatmap + lab_table).cols(1)"
   ]
  },
  {
   "cell_type": "markdown",
   "metadata": {},
   "source": [
    "#### Analysis for Stacked Bar Chart\n",
    "- From this aspect it seems that the lab system would illustrate largely what the Lab-micro samples would look like if the formaldehyde did not disolve the naked dinoflagellate.\n",
    "- Of the dominant species, the lab system definitely had a harder time identifying Lingulodinium polyedras and Pseudo-nitzschia chains. Also it seems sampling is an issue for the system."
   ]
  },
  {
   "cell_type": "markdown",
   "metadata": {},
   "source": [
    "# ================ SPC-Pier ================"
   ]
  },
  {
   "cell_type": "code",
   "execution_count": null,
   "metadata": {},
   "outputs": [],
   "source": [
    "SMPL_METHOD_2 = COUNT_FORM[2]\n",
    "import hvplot.pandas\n",
    "title = 'Total Counts'\n",
    "color = 'green'\n",
    "\n",
    "printmd(f'## [{SMPL_METHOD}] {title} Time Series & Distribution')\n",
    "x = data.groupby('datetime')[SMPL_METHOD_2].sum().hvplot.line(rot=30, color=color, xformatter=formatter).opts(height=300, width=600, tools=['hover'])\n",
    "\n",
    "y = data.groupby('datetime')[SMPL_METHOD_2].sum().hvplot.box(rot=0, color=color).opts(tools=['hover'])\n",
    "\n",
    "z = data.groupby('datetime')[SMPL_METHOD_2].sum().hvplot.hist(rot=0, color=color).opts(tools=['hover'])\n",
    "\n",
    "display(data.groupby('datetime')[SMPL_METHOD_2].sum().to_frame().transpose())\n",
    "display(data.groupby('datetime')[SMPL_METHOD_2].sum().describe().to_frame().transpose())\n",
    "\n",
    "\n",
    "hv.Layout(x + y + z).cols(3)"
   ]
  },
  {
   "cell_type": "markdown",
   "metadata": {},
   "source": [
    "#### Analysis of Total Counts\n",
    "- Okay definitely seems like the pier was undercounting. These low total counts could be due to hard_to_id images, which has been a large issue for trying to fairly compare abundances.\n",
    "- Another reason could be due to the high pseudo-nitzschia chain counts that makes up most of the Microscopy counts\n",
    "\n",
    "- It is important to note that during the days of the blooms, that the Pier was able to pick up comparable numbers to the Lab-micro."
   ]
  },
  {
   "cell_type": "code",
   "execution_count": null,
   "metadata": {},
   "outputs": [],
   "source": [
    "\"\"\"\n",
    "CLASS DISTRIBUTIONS\n",
    "\"\"\"\n",
    "printmd(f'## [{SMPL_METHOD_2}] Class Distribution')\n",
    "from counts_analysis.gtruth_analysis import plot_total_distribution, plot_class_distribution_over_period\n",
    "\n",
    "display(data.groupby('class')[SMPL_METHOD_2].sum().to_frame().transpose())\n",
    "display(data.groupby('class')[SMPL_METHOD_2].sum().describe().to_frame().transpose())\n",
    "\n",
    "plot_total_distribution(SMPL_METHOD_2, data=data, logged=False)"
   ]
  },
  {
   "cell_type": "markdown",
   "metadata": {},
   "source": [
    "#### Analysis of Accumulated Class Counts Distribution\n",
    "- Pretty similar to the SPC-Lab in terms of distribution, except for absent Pseudo-nitzschia chains in the Pier\n",
    "- The Pier system definitely does seem to be the double in counts vs the SPC-Lab. \n",
    "- #TODO determine if it's correct compare the SPC-Lab with the SPC-Pier under these circumstances of sampling 17 min before AND after vs just sequential..."
   ]
  },
  {
   "cell_type": "code",
   "execution_count": null,
   "metadata": {},
   "outputs": [],
   "source": [
    "printmd('### Average Distribution over 26 Days for Class Counts')\n",
    "plot_class_distribution_over_period(stats_descriptor='mean', smpl_technique=SMPL_METHOD_2, data=data); plt.show();\n",
    "\n",
    "# plot_class_distribution_over_period(stats_descriptor='median', smpl_technique=SMPL_METHOD_2, data=data); plt.show();"
   ]
  },
  {
   "cell_type": "markdown",
   "metadata": {},
   "source": [
    "#### Analysis of Average Distributions\n",
    "- Hmmmm seems like the medians for the Rare classes are still all zero... so not good"
   ]
  },
  {
   "cell_type": "code",
   "execution_count": null,
   "metadata": {},
   "outputs": [],
   "source": [
    "\"\"\"\n",
    "DOMINANT X RARE CLASS AVG DISTRIBUTION\n",
    "\"\"\"\n",
    "printmd('#### Dominant Class Time Series')\n",
    "plot_class_distribution_over_period(stats_descriptor='mean', smpl_technique=SMPL_METHOD_2, data=dominant_cls_df); plt.show();\n",
    "\n",
    "smpl_technique = COUNT_FORM[2]\n",
    "stacked = dominant_cls_df.set_index(['datetime', 'class'])[smpl_technique].unstack().reset_index()\n",
    "display(stacked[dominant_cls].apply(pd.Series.value_counts).fillna(0).astype(int).transpose())\n",
    "stacked.hvplot.hist(y=dominant_cls, bins=[0,1,5,10,15,20,50,100,150,185,245,255,385,400,990,1050], alpha=0.5, subplots=True)"
   ]
  },
  {
   "cell_type": "code",
   "execution_count": null,
   "metadata": {},
   "outputs": [],
   "source": [
    "non_detected_days = stacked[dominant_cls].apply(pd.Series.value_counts).fillna(0).astype(int).transpose()[0] / 26\n",
    "display(non_detected_days.to_frame().transpose())\n",
    "display(non_detected_days.describe().to_frame().transpose())\n",
    "non_detected_days.hvplot.bar(rot=30).opts(title='Number of Zero Count Days per Species', ylabel='Percentage of Days (N=26)')"
   ]
  },
  {
   "cell_type": "markdown",
   "metadata": {},
   "source": [
    "#### Analysis of Dominant Cls Distribution\n",
    "- Using imaging systems, you're subjected to missing the collection of species DUE to hard_to_id images for the most part (examples are pseudo-nitzschia chains; lingulodinium polyedra)\n",
    "- Comparing to this to the microrscopy, there's definitely a better precision of capturing these frequent classes. This is an area the imaging systems need to do better."
   ]
  },
  {
   "cell_type": "code",
   "execution_count": null,
   "metadata": {},
   "outputs": [],
   "source": [
    "printmd('#### Rare Class Time Series')\n",
    "plot_class_distribution_over_period(stats_descriptor='mean', smpl_technique=SMPL_METHOD_2, data=rare_cls_df); plt.show();\n",
    "\n",
    "smpl_technique = COUNT_FORM[2]\n",
    "stacked = rare_cls_df.set_index(['datetime', 'class'])[smpl_technique].unstack().reset_index()\n",
    "display(stacked[rare_cls].apply(pd.Series.value_counts).fillna(0).astype(int).transpose())\n",
    "stacked.hvplot.hist(y=rare_cls, bins=[0,1,3,5,7,10,15,20,25], alpha=0.5, subplots=True)"
   ]
  },
  {
   "cell_type": "code",
   "execution_count": null,
   "metadata": {},
   "outputs": [],
   "source": [
    "non_detected_days = stacked[rare_cls].apply(pd.Series.value_counts).fillna(0).astype(int).transpose()[0] / 26\n",
    "display(non_detected_days.to_frame().transpose())\n",
    "display(non_detected_days.describe().to_frame().transpose())\n",
    "non_detected_days.hvplot.bar(rot=30).opts(title='Number of Zero Count Days per Species', ylabel='Percentage of Days (N=26)')"
   ]
  },
  {
   "cell_type": "markdown",
   "metadata": {},
   "source": [
    "#### Analysis of Zero Count Days\n",
    "- Okay given this plot, the SPC-Pier seems to have the upperhand in detecting these rare species on a regular basis (relative to lab-micro) 51% (25%) VS 75% (std 17%).\n",
    "- Even for comparing species for species, the SPC-Pier does do better in detecting these species.\n",
    "- So in reflection of the SPC-Pier vs Micro, it seems that the SPC-Pier would be the ideal choice for sampling a higher diversity of classes"
   ]
  },
  {
   "cell_type": "code",
   "execution_count": null,
   "metadata": {},
   "outputs": [],
   "source": [
    "\"\"\"\n",
    "CLASS TIME SERIES\n",
    "\"\"\"\n",
    "from counts_analysis.gtruth_analysis import plot_class_time_series\n",
    "title = 'Class'\n",
    "printmd(f'### [{SMPL_METHOD_2}] {title} Time Series')\n",
    "plot_class_time_series(SMPL_METHOD_2, data, logged=False)\n",
    "printmd(f'### [{SMPL_METHOD_2}] {title} Time Series (Logged)')\n",
    "plot_class_time_series(SMPL_METHOD_2, data, logged=True)"
   ]
  },
  {
   "cell_type": "code",
   "execution_count": null,
   "metadata": {},
   "outputs": [],
   "source": [
    "printmd('#### Rare Class Time Series')\n",
    "plot_class_time_series(SMPL_METHOD_2, rare_cls_df, logged=False)"
   ]
  },
  {
   "cell_type": "markdown",
   "metadata": {},
   "source": [
    "#### Analysis for Class Time Series\n",
    "- Okay definitely clear that pier is better in sampling these species. Again however, could be subjected to the Gyrodinium."
   ]
  },
  {
   "cell_type": "code",
   "execution_count": null,
   "metadata": {},
   "outputs": [],
   "source": [
    "\"\"\"\n",
    "CLASS HEATMAP\n",
    "\"\"\"\n",
    "from counts_analysis.gtruth_analysis import plot_heatmap\n",
    "title = 'Class x Datetime x '\n",
    "printmd(f'## [{SMPL_METHOD_2}] {title} HeatMap')\n",
    "lab_micro_heatmap = plot_heatmap(SMPL_METHOD_2, data)\n",
    "lab_micro_heatmap"
   ]
  },
  {
   "cell_type": "code",
   "execution_count": null,
   "metadata": {},
   "outputs": [],
   "source": [
    "def plot_stacked_bar_chart(smpl_technique, data):\n",
    "    stacked = data.set_index(['datetime', 'class'])[smpl_technique].unstack().reset_index()\n",
    "    plot = stacked.hvplot.bar(x='datetime', y=sorted(list(data['class'].unique())), stacked=True, rot=30).opts(width=1000, height=600, title=smpl_technique)\n",
    "    print(plot.dimensions)\n",
    "    return plot\n",
    "\n",
    "display(data.groupby('datetime')[SMPL_METHOD_2].sum().to_frame().transpose())\n",
    "display(data.groupby('datetime')[SMPL_METHOD_2].sum().describe().to_frame().transpose())\n",
    "\n",
    "micro = plot_stacked_bar_chart(COUNT_FORM[2], data)\n",
    "micro.opts(logy=True)"
   ]
  },
  {
   "cell_type": "code",
   "execution_count": null,
   "metadata": {},
   "outputs": [],
   "source": [
    "pier_class_percentage = plot_stacked_bar_chart(class_percentage_counts[2], data)\n",
    "\n",
    "\"\"\"\n",
    "CLASS HEATMAP\n",
    "\"\"\"\n",
    "from counts_analysis.gtruth_analysis import plot_heatmap\n",
    "title = 'Class x Datetime x '\n",
    "spc_pier_heatmap = plot_heatmap(SMPL_METHOD_2, data)\n",
    "\n",
    "pier_table = data.groupby('datetime')[SMPL_METHOD_2].sum().to_frame().transpose().hvplot.table(width=1750)\n",
    "\n",
    "hv.Layout(pier_class_percentage + spc_pier_heatmap + pier_table).cols(1)"
   ]
  },
  {
   "cell_type": "markdown",
   "metadata": {},
   "source": [
    "# SPC-Pier, SPC-Lab, Lab-micro Comparison"
   ]
  },
  {
   "cell_type": "code",
   "execution_count": null,
   "metadata": {},
   "outputs": [],
   "source": [
    "COUNTS = COUNT_FORM\n",
    "import hvplot.pandas\n",
    "title = 'Total Counts'\n",
    "SMPL_METHOD = 'SPC-Pier, SPC-Lab, Lab-micro Comparison'\n",
    "data \n",
    "printmd(f'## [{SMPL_METHOD}] {title} Time Series & Distribution')\n",
    "x = data.groupby('datetime')[COUNTS].sum().hvplot.line(ylabel='Count', xformatter=formatter, line_width=3).opts(height=500, width=1200, tools=['hover'], fontscale=1.5)\n",
    "\n",
    "y = data.groupby('datetime')[COUNTS].sum().hvplot.box(rot=0).opts(tools=['hover'])\n",
    "\n",
    "z = data.groupby('datetime')[COUNTS].sum().hvplot.hist(rot=0).opts(tools=['hover'])\n",
    "\n",
    "display(data.groupby('datetime')[COUNT_FORM].sum().transpose())\n",
    "\n",
    "sum_counts = pd.DataFrame(data.groupby('datetime')[COUNT_FORM].sum().transpose().sum(axis=1), columns=['sum'])\n",
    "data_desc = pd.concat([data.groupby('datetime')[COUNT_FORM].sum().describe().transpose(), sum_counts], axis=1)\n",
    "display(data_desc)\n",
    "\n",
    "hv.Layout(x + y + z).cols(3)"
   ]
  },
  {
   "cell_type": "code",
   "execution_count": null,
   "metadata": {},
   "outputs": [],
   "source": [
    "printmd(f'## [{SMPL_METHOD}] Class Distribution')\n",
    "# Plot sampling techniques for each class against each other\n",
    "\n",
    "current_palette_7 = sns.color_palette(\"muted\", 3)\n",
    "sns.set_palette(current_palette_7)\n",
    "\n",
    "y = 'raw count'\n",
    "sm = data[['class', 'datetime'] + COUNT_FORM]\n",
    "sm = sm.melt(id_vars=['class', 'datetime'], var_name=['setting'], value_name=y)\n",
    "sm = sm.sort_values('class')"
   ]
  },
  {
   "cell_type": "code",
   "execution_count": null,
   "metadata": {},
   "outputs": [],
   "source": [
    "# plt.figure(figsize=(10, 6))\n",
    "\n",
    "# sns.barplot(x='class', y=y, hue='setting', data=sm)\n",
    "# plt.xlabel('Class')\n",
    "# plt.xticks(rotation=30)\n",
    "# if 'relative' in y:\n",
    "#     plt.ylim(0, 100)\n",
    "# plt.tight_layout()\n",
    "\n",
    "def plot_compared_methods_class_distribution(COUNT_FORM, data, y_label, ax=None):\n",
    "    y = 'raw count'\n",
    "    sm = data[['class', 'datetime'] + COUNT_FORM]\n",
    "    sm = sm.melt(id_vars=['class', 'datetime'], var_name=['setting'], value_name=y)\n",
    "    sm = sm.sort_values('class')\n",
    "    \n",
    "    if ax:\n",
    "        sns.barplot(x='class', y=y, hue='setting', data=sm, ax=ax)\n",
    "        ax.set_ylabel(y_label)\n",
    "        ax.set_xticklabels(labels=sorted(sm['class'].unique()), rotation=30)\n",
    "    else:\n",
    "        sns.barplot(x='class', y=y, hue='setting', data=sm)\n",
    "        plt.ylabel(y_label)\n",
    "        plt.xticks(rotation=30)\n",
    "\n",
    "printmd('#### Absolute Counts')\n",
    "fig,ax = plt.subplots(1, 2, figsize=(25, 6))\n",
    "plot_compared_methods_class_distribution(raw_counts, rare_cls_df, ax=ax[0], y_label='Absolute Counts')    \n",
    "plot_compared_methods_class_distribution(raw_counts, dominant_cls_df, ax=ax[1], y_label='Absolute Counts')\n",
    "plt.show()\n",
    "\n",
    "printmd('#### Class Percentage')\n",
    "fig,ax = plt.subplots(1, 2, figsize=(25, 6))\n",
    "plot_compared_methods_class_distribution(class_percentage_counts, rare_cls_df, ax=ax[0], y_label='Class Percentage')    \n",
    "plot_compared_methods_class_distribution(class_percentage_counts, dominant_cls_df, ax=ax[1], y_label='Class Percentage')\n",
    "plt.show()"
   ]
  },
  {
   "cell_type": "code",
   "execution_count": null,
   "metadata": {},
   "outputs": [],
   "source": [
    "printmd(f'## [{SMPL_METHOD}] Class Time Series')\n",
    "for smpl_technique in COUNT_FORM:\n",
    "    printmd(f'### {smpl_technique}')\n",
    "    plot_class_time_series(smpl_technique, data, logged=False)"
   ]
  },
  {
   "cell_type": "markdown",
   "metadata": {},
   "source": [
    "## Zero counts for Dominant & Rare Species"
   ]
  },
  {
   "cell_type": "code",
   "execution_count": null,
   "metadata": {},
   "outputs": [],
   "source": [
    "\"\"\"\n",
    "RARE SPECIES\n",
    "\"\"\"\n",
    "COUNTS = raw_counts_pred\n",
    "\n",
    "rare_cls_df = data[~data['class'].isin(dominant_cls)].reset_index(drop=True)\n",
    "rare_cls = sorted(rare_cls_df['class'].unique())\n",
    "\n",
    "def get_non_detected_days(data, smpl_technique, classes):\n",
    "    printmd(smpl_technique)\n",
    "    stacked = data.set_index(['datetime', 'class'])[smpl_technique].unstack().reset_index()\n",
    "    non_detected_days = 1.0 - stacked[classes].apply(pd.Series.value_counts).fillna(0).astype(int).transpose()[0] / 26\n",
    "    display(non_detected_days.to_frame().transpose())\n",
    "    display(non_detected_days.describe().to_frame().transpose())\n",
    "    return non_detected_days\n",
    "\n",
    "non_detected_days = get_non_detected_days(rare_cls_df, COUNTS[0], rare_cls)\n",
    "micro = non_detected_days.hvplot.bar(rot=30).opts(title='Number of Zero Count Days per Species', ylabel='Percentage of Days (N=26)')\n",
    "\n",
    "non_detected_days1 = get_non_detected_days(rare_cls_df, COUNTS[1], rare_cls)\n",
    "lab = non_detected_days1.hvplot.bar(rot=30).opts(title='Number of Zero Count Days per Species', ylabel='Percentage of Days (N=26)')\n",
    "\n",
    "non_detected_days2 = get_non_detected_days(rare_cls_df, COUNTS[2], rare_cls)\n",
    "pier = non_detected_days2.hvplot.bar(rot=30).opts(title='Number of Zero Count Days per Species', ylabel='Percentage of Days (N=26)')\n",
    "\n",
    "# hv.Layout(micro+lab+pier).cols(1)\n",
    "\n",
    "detection_col = ['Lab-micro', 'SPC-Lab', 'SPC-Pier']\n",
    "m = non_detected_days.to_frame().rename({0:detection_col[0]}, axis=1)\n",
    "l = non_detected_days1.to_frame().rename({0:detection_col[1]}, axis=1)\n",
    "p = non_detected_days2.to_frame().rename({0:detection_col[2]}, axis=1)\n",
    "\n",
    "rare_zeros = m.merge(l, on='class')\n",
    "rare_zeros = rare_zeros.merge(p, on='class')\n",
    "rare_zeros['class'] = rare_zeros.index\n",
    "rare_zeros = rare_zeros.reset_index(drop=True)\n",
    "\n",
    "def plot_compared_methods_zero_counts(COUNT_FORM, data, y_label, ax=None):\n",
    "    y = 'Detection rate'\n",
    "    sm = data[['class'] + COUNT_FORM]\n",
    "    var_name = 'sampling technique'\n",
    "    sm = sm.melt(id_vars=['class'], var_name=[var_name], value_name=y)\n",
    "    sm = sm.sort_values(['class', 'sampling technique'])\n",
    "    \n",
    "    if ax:\n",
    "        sns.barplot(x='class', y=y, hue=var_name, data=sm, ax=ax)\n",
    "        ax.set_ylabel(y_label)\n",
    "        ax.set_xticklabels(labels=sorted(sm['class'].unique()), rotation=90)\n",
    "    else:\n",
    "        sns.barplot(x='class', y=y, hue=var_name, data=sm)\n",
    "        plt.ylabel(y_label)\n",
    "        plt.xticks(rotation=30, ha='right')\n",
    "    plt.legend(bbox_to_anchor=(1.05, 1), loc=2, borderaxespad=0.)\n",
    "\n",
    "current_palette_7 = sns.color_palette(\"muted\", 3)\n",
    "sns.set_palette(current_palette_7[:2])\n",
    "    \n",
    "plot_compared_methods_zero_counts(detection_col[:2], rare_zeros, y_label='Detection Rate'); plt.show();\n",
    "\n",
    "sns.set_palette([current_palette_7[0], current_palette_7[2]])\n",
    "plot_compared_methods_zero_counts([detection_col[0], detection_col[2]], rare_zeros, y_label='Detection Rate'); plt.show();\n",
    "\n",
    "\n",
    "sns.set_palette(current_palette_7[1:])\n",
    "plot_compared_methods_zero_counts(detection_col[1:], rare_zeros, y_label='Detection Rate'); plt.show();\n",
    "\n",
    "sns.set_palette(current_palette_7)\n",
    "plot_compared_methods_zero_counts(detection_col, rare_zeros, y_label='Detection Rate'); plt.show();"
   ]
  },
  {
   "cell_type": "code",
   "execution_count": null,
   "metadata": {},
   "outputs": [],
   "source": [
    "printmd('## Dominant Species (zero count days)')\n",
    "non_detected_days = get_non_detected_days(dominant_cls_df, COUNTS[0], dominant_cls)\n",
    "micro = non_detected_days.hvplot.bar(rot=30).opts(title='Number of Zero Count Days per Species', ylabel='Percentage of Days (N=26)')\n",
    "\n",
    "non_detected_days1 = get_non_detected_days(dominant_cls_df, COUNTS[1], dominant_cls)\n",
    "lab = non_detected_days1.hvplot.bar(rot=30).opts(title='Number of Zero Count Days per Species', ylabel='Percentage of Days (N=26)')\n",
    "\n",
    "non_detected_days2 = get_non_detected_days(dominant_cls_df, COUNTS[2], dominant_cls)\n",
    "pier = non_detected_days2.hvplot.bar(rot=30).opts(title='Number of Zero Count Days per Species', ylabel='Percentage of Days (N=26)')\n",
    "\n",
    "# hv.Layout(micro+lab+pier).cols(1)\n",
    "\n",
    "detection_col = ['Lab-micro', 'SPC-Lab', 'SPC-Pier']\n",
    "m = non_detected_days.to_frame().rename({0:detection_col[0]}, axis=1)\n",
    "l = non_detected_days1.to_frame().rename({0:detection_col[1]}, axis=1)\n",
    "p = non_detected_days2.to_frame().rename({0:detection_col[2]}, axis=1)\n",
    "\n",
    "rare_zeros = m.merge(l, on='class')\n",
    "rare_zeros = rare_zeros.merge(p, on='class')\n",
    "rare_zeros['class'] = rare_zeros.index\n",
    "rare_zeros = rare_zeros.reset_index(drop=True)\n",
    "\n",
    "def plot_compared_methods_zero_counts(COUNT_FORM, data, y_label, ax=None):\n",
    "    y = 'Detection rate'\n",
    "    sm = data[['class'] + COUNT_FORM]\n",
    "    var_name = 'sampling technique'\n",
    "    sm = sm.melt(id_vars=['class'], var_name=[var_name], value_name=y)\n",
    "    sm = sm.sort_values(['class', 'sampling technique'])\n",
    "    \n",
    "    if ax:\n",
    "        sns.barplot(x='class', y=y, hue=var_name, data=sm, ax=ax)\n",
    "        ax.set_ylabel(y_label)\n",
    "        ax.set_xticklabels(labels=sorted(sm['class'].unique()), rotation=90)\n",
    "    else:\n",
    "        sns.barplot(x='class', y=y, hue=var_name, data=sm)\n",
    "        plt.ylabel(y_label)\n",
    "        plt.xticks(rotation=30, ha='right')\n",
    "    plt.legend(bbox_to_anchor=(1.05, 1), loc=2, borderaxespad=0.)\n",
    "\n",
    "current_palette_7 = sns.color_palette(\"muted\", 3)\n",
    "sns.set_palette(current_palette_7[:2])\n",
    "    \n",
    "plot_compared_methods_zero_counts(detection_col[:2], rare_zeros, y_label='Detection Rate'); plt.show();\n",
    "\n",
    "sns.set_palette([current_palette_7[0], current_palette_7[2]])\n",
    "plot_compared_methods_zero_counts([detection_col[0], detection_col[2]], rare_zeros, y_label='Detection Rate'); plt.show();\n",
    "\n",
    "\n",
    "sns.set_palette(current_palette_7[1:])\n",
    "plot_compared_methods_zero_counts(detection_col[1:], rare_zeros, y_label='Detection Rate'); plt.show();\n",
    "\n",
    "sns.set_palette(current_palette_7)\n",
    "plot_compared_methods_zero_counts(detection_col, rare_zeros, y_label='Detection Rate'); plt.show();"
   ]
  },
  {
   "cell_type": "code",
   "execution_count": null,
   "metadata": {},
   "outputs": [],
   "source": [
    "detection_col = ['Lab-micro', 'SPC-Lab', 'SPC-Pier']\n",
    "m = non_detected_days.to_frame().rename({0:detection_col[0]}, axis=1)\n",
    "l = non_detected_days1.to_frame().rename({0:detection_col[1]}, axis=1)\n",
    "p = non_detected_days2.to_frame().rename({0:detection_col[2]}, axis=1)\n",
    "\n",
    "rare_zeros = m.merge(l, on='class')\n",
    "rare_zeros = rare_zeros.merge(p, on='class')\n",
    "rare_zeros['class'] = rare_zeros.index\n",
    "rare_zeros = rare_zeros.reset_index(drop=True)\n",
    "\n",
    "def plot_compared_methods_zero_counts(COUNT_FORM, data, y_label, ax=None):\n",
    "    y = 'Detection rate'\n",
    "    sm = data[['class'] + COUNT_FORM]\n",
    "    var_name = 'sampling technique'\n",
    "    sm = sm.melt(id_vars=['class'], var_name=[var_name], value_name=y)\n",
    "    sm = sm.sort_values(['class', 'sampling technique'])\n",
    "    \n",
    "    if ax:\n",
    "        sns.barplot(x='class', y=y, hue=var_name, data=sm, ax=ax)\n",
    "        ax.set_ylabel(y_label)\n",
    "        ax.set_xticklabels(labels=sorted(sm['class'].unique()), rotation=90)\n",
    "    else:\n",
    "        sns.barplot(x='class', y=y, hue=var_name, data=sm)\n",
    "        plt.ylabel(y_label)\n",
    "        plt.xticks(rotation=90)\n",
    "    plt.legend(bbox_to_anchor=(1.05, 1), loc=2, borderaxespad=0.)\n",
    "\n",
    "current_palette_7 = sns.color_palette(\"muted\", 3)\n",
    "sns.set_palette(current_palette_7[:2])\n",
    "    \n",
    "plot_compared_methods_zero_counts(detection_col[:2], rare_zeros, y_label='Detection Rate'); plt.show();\n",
    "\n",
    "sns.set_palette([current_palette_7[0], current_palette_7[2]])\n",
    "plot_compared_methods_zero_counts([detection_col[0], detection_col[2]], rare_zeros, y_label='Detection Rate'); plt.show();\n",
    "\n",
    "\n",
    "sns.set_palette(current_palette_7[1:])\n",
    "plot_compared_methods_zero_counts(detection_col[1:], rare_zeros, y_label='Detection Rate'); plt.show();\n",
    "\n",
    "sns.set_palette(current_palette_7)\n",
    "plot_compared_methods_zero_counts(detection_col, rare_zeros, y_label='Detection Rate'); plt.show();"
   ]
  },
  {
   "cell_type": "code",
   "execution_count": null,
   "metadata": {},
   "outputs": [],
   "source": [
    "%%output backend='bokeh'\n",
    "def plot_stacked_bar_chart(smpl_technique, data):\n",
    "    stacked = data.set_index(['datetime', 'class'])[smpl_technique].unstack().reset_index()\n",
    "    plot = stacked.hvplot.bar(x='datetime', y=sorted(list(data['class'].unique())), stacked=True, rot=30, logy=True).opts(width=750, height=600, title=smpl_technique).redim(Variable=hv.Dimension('Variable', range=(-10, 90)))\n",
    "    print(plot.dimensions)\n",
    "    return plot\n",
    "\n",
    "micro = plot_stacked_bar_chart(COUNT_FORM[0], data)\n",
    "lab = plot_stacked_bar_chart(COUNT_FORM[1], data)\n",
    "pier = plot_stacked_bar_chart(COUNT_FORM[2], data)\n",
    "hv.Layout(micro + lab + pier).cols(1)"
   ]
  },
  {
   "cell_type": "code",
   "execution_count": null,
   "metadata": {},
   "outputs": [],
   "source": [
    "def plot_stacked_bar_chart(smpl_technique, data):\n",
    "    stacked = data.set_index(['datetime', 'class'])[smpl_technique].unstack().reset_index()\n",
    "    plot = stacked.hvplot.bar(x='datetime', y=sorted(list(data['class'].unique())), stacked=True, rot=30).opts(width=1200, height=600, title=smpl_technique, ylabel='Class Percentage', fontscale=1.5).redim(Variable=hv.Dimension('Variable', range=(-10, 90)))\n",
    "    print(plot.dimensions)\n",
    "    return plot\n",
    "\n",
    "micro = plot_stacked_bar_chart(class_percentage_counts[0], data)\n",
    "lab = plot_stacked_bar_chart(class_percentage_counts[1], data)\n",
    "pier = plot_stacked_bar_chart(class_percentage_counts[2], data)\n",
    "\n",
    "lab_micro_heatmap = plot_heatmap(COUNTS[0], data)\n",
    "spc_lab_heatmap = plot_heatmap(COUNTS[1], data)\n",
    "spc_pier_heatmap = plot_heatmap(COUNTS[2], data)\n",
    "\n",
    "micro_table = data.groupby('datetime')[raw_counts[0]].sum().to_frame().transpose().hvplot.table(width=1750)\n",
    "lab_table = data.groupby('datetime')[raw_counts[1]].sum().to_frame().transpose().hvplot.table(width=1750)\n",
    "pier_table = data.groupby('datetime')[raw_counts[2]].sum().to_frame().transpose().hvplot.table(width=1750)\n",
    "\n",
    "# hv.Layout(lab_micro_heatmap + spc_lab_heatmap + spc_pier_heatmap).cols(1)\n",
    "\n",
    "# hv.Layout(micro + lab + pier).cols(1)\n",
    "\n",
    "hv.Layout(micro + lab_micro_heatmap + micro_table + lab + spc_lab_heatmap + lab_table + pier+ spc_pier_heatmap + pier_table).cols(1)"
   ]
  },
  {
   "cell_type": "markdown",
   "metadata": {},
   "source": [
    "#### Analysis of Class Percentages across 3 methods\n",
    "- Class percentages could definitely be skewed by the low total counts from the SPCS. So this might not be a good comparison.\n",
    "- But we could be hopeful that \n"
   ]
  },
  {
   "cell_type": "code",
   "execution_count": null,
   "metadata": {},
   "outputs": [],
   "source": [
    "matplotlib.rc('xtick', labelsize=16)     \n",
    "matplotlib.rc('ytick', labelsize=16)\n",
    "matplotlib.rc('axes', labelsize=16, titlesize=16)\n",
    "\n",
    "current_palette_7 = sns.color_palette(\"Set2\", 3)\n",
    "sns.set_palette(current_palette_7[::-1])\n",
    "\n",
    "from counts_analysis.gtruth_analysis import plot_correlation\n",
    "\n",
    "plot_correlation(data, COUNT_FORM)"
   ]
  },
  {
   "cell_type": "code",
   "execution_count": null,
   "metadata": {},
   "outputs": [],
   "source": [
    "COUNT_FORM = class_percentage_counts\n",
    "plot_correlation(data, COUNT_FORM)"
   ]
  },
  {
   "cell_type": "code",
   "execution_count": null,
   "metadata": {},
   "outputs": [],
   "source": [
    "def plot_correlation(data, counts, automated=False):\n",
    "    from validate_exp.v_utils import best_fit\n",
    "\n",
    "    NUM_COLS = 3\n",
    "    fig, ax = plt.subplots(4, NUM_COLS, figsize=(10, 10))\n",
    "    count_type = 'Auto' if automated else 'SPC'\n",
    "    sns.scatterplot(x=data[counts[0]], y=data[counts[1]], ax=ax[0, 0],\n",
    "                    label=f'{count_type}-Lab (Y) - Lab-micro (X)')\n",
    "    sns.scatterplot(x=data[counts[0]], y=data[counts[2]], ax=ax[0, 0],\n",
    "                    label=f'{count_type}-Pier (Y) - Lab-micro (X)')\n",
    "    sns.scatterplot(x=data[counts[1]], y=data[counts[2]], ax=ax[0, 0],\n",
    "                    label=f'{count_type}-Pier (Y) - SPC-Lab (X)')\n",
    "\n",
    "    ax[0, 0].set_xlabel('Count (X)')\n",
    "    ax[0, 0].set_ylabel('Count (Y)')\n",
    "\n",
    "    plt.tight_layout()\n",
    "    classes = sorted(data['class'].unique())\n",
    "    for i_ax, cls in enumerate(classes):\n",
    "        cls_df = data[data['class'] == cls]\n",
    "        ax_idx = ax[int((i_ax + 1) / NUM_COLS), (i_ax + 1) % NUM_COLS]\n",
    "        sns.scatterplot(x=cls_df[counts[0]], y=cls_df[counts[1]], ax=ax_idx,\n",
    "                        label=f'{count_type}-Lab (Y) - Lab-micro (X)')\n",
    "        sns.scatterplot(x=cls_df[counts[0]], y=cls_df[counts[2]], ax=ax_idx,\n",
    "                        label=f'{count_type}-Pier (Y) - Lab-micro (X)')\n",
    "        sns.scatterplot(x=cls_df[counts[1]], y=cls_df[counts[2]], ax=ax_idx,\n",
    "                        label=f'{count_type}-Pier (Y) - SPC-Lab (X)')\n",
    "        Xfit, Yfit = best_fit(cls_df[counts[0]], cls_df[counts[1]], False, verbose=False)\n",
    "        ax_idx.plot(Xfit, Yfit)\n",
    "\n",
    "        Xfit, Yfit = best_fit(cls_df[counts[0]], cls_df[counts[2]], False, verbose=False)\n",
    "        ax_idx.plot(Xfit, Yfit)\n",
    "\n",
    "        Xfit, Yfit = best_fit(cls_df[counts[1]], cls_df[counts[2]], False, verbose=False)\n",
    "        ax_idx.plot(Xfit, Yfit)\n",
    "\n",
    "        ax_idx.set_xlabel('Count (X)')\n",
    "        ax_idx.set_ylabel('Count (Y)')\n",
    "\n",
    "        ymin, ymax = ax_idx.get_ylim()\n",
    "        xmin, xmax = ax_idx.get_xlim()\n",
    "\n",
    "        max_val = xmax if xmax >= ymax else ymax\n",
    "        ax_idx.set_ylim(0, max_val)\n",
    "        ax_idx.set_xlim(0, max_val)\n",
    "\n",
    "        ax_idx.set_title(cls)\n",
    "        #     set_plotting_opts(ax_idx, logged=LOGGED)\n",
    "    plt.tight_layout()\n",
    "    plt.show()\n",
    "\n",
    "COUNT_FORM = raw_counts\n",
    "plot_correlation(data, COUNT_FORM)"
   ]
  },
  {
   "cell_type": "code",
   "execution_count": null,
   "metadata": {},
   "outputs": [],
   "source": [
    "COUNTS = raw_counts\n",
    "data_ = data.copy()\n",
    "data_['datetime'] = pd.to_datetime(data_['datetime'], format='%Y-%m-%d')\n",
    "data_.groupby('datetime')[COUNTS].sum().hvplot(xformatter=formatter)"
   ]
  },
  {
   "cell_type": "code",
   "execution_count": null,
   "metadata": {},
   "outputs": [],
   "source": []
  }
 ],
 "metadata": {
  "kernelspec": {
   "display_name": "hab_rnd",
   "language": "python",
   "name": "hab_rnd"
  },
  "language_info": {
   "codemirror_mode": {
    "name": "ipython",
    "version": 3
   },
   "file_extension": ".py",
   "mimetype": "text/x-python",
   "name": "python",
   "nbconvert_exporter": "python",
   "pygments_lexer": "ipython3",
   "version": "3.8.5"
  }
 },
 "nbformat": 4,
 "nbformat_minor": 4
}
